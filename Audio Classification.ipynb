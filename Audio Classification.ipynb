{
 "cells": [
  {
   "cell_type": "code",
   "execution_count": 1,
   "metadata": {},
   "outputs": [
    {
     "name": "stderr",
     "output_type": "stream",
     "text": [
      "Using TensorFlow backend.\n"
     ]
    }
   ],
   "source": [
    "# IMPORTING PACKAGES\n",
    "\n",
    "import struct\n",
    "import pandas as pd\n",
    "import os\n",
    "import librosa\n",
    "import librosa.display\n",
    "import numpy as np\n",
    "import pickle\n",
    "\n",
    "from keras.models import Sequential\n",
    "from keras.layers import Add\n",
    "from keras.layers import Dense, Dropout, Activation, Flatten, BatchNormalization, Input\n",
    "from keras.layers import Convolution2D, Conv2D, MaxPooling2D, GlobalAveragePooling2D\n",
    "from keras.optimizers import Adam\n",
    "from keras.utils import np_utils\n",
    "from keras.models import model_from_json\n",
    "from keras.utils import to_categorical\n",
    "from keras.callbacks import ModelCheckpoint \n",
    "from keras.applications.mobilenet import MobileNet\n",
    "from keras.applications.mobilenet_v2 import MobileNetV2\n",
    "\n",
    "from sklearn.model_selection import train_test_split \n",
    "from sklearn import metrics \n",
    "from sklearn.preprocessing import LabelEncoder\n",
    "\n",
    "from datetime import datetime \n",
    "\n",
    "import matplotlib.pyplot as plt\n",
    "\n"
   ]
  },
  {
   "cell_type": "code",
   "execution_count": 2,
   "metadata": {},
   "outputs": [],
   "source": [
    "# Source: https://medium.com/@mikesmales/sound-classification-using-deep-learning-8bc2aa1990b7\n",
    "# HELPER FUNCTION FOR READING AUDIO FILE\n",
    "class WavFileHelper():\n",
    "    # read the files in the UrbanSound8K according to the CSV file contained in the folder\n",
    "    def read_file_properties(self, filename):\n",
    "\n",
    "        wave_file = open(filename,\"rb\")\n",
    "        \n",
    "        riff = wave_file.read(12)\n",
    "        fmt = wave_file.read(36)\n",
    "        \n",
    "        num_channels_string = fmt[10:12]\n",
    "        num_channels = struct.unpack('<H', num_channels_string)[0]\n",
    "\n",
    "        sample_rate_string = fmt[12:16]\n",
    "        sample_rate = struct.unpack(\"<I\",sample_rate_string)[0]\n",
    "        \n",
    "        bit_depth_string = fmt[22:24]\n",
    "        bit_depth = struct.unpack(\"<H\",bit_depth_string)[0]\n",
    "        # return the channel, smaple rate and bit depth information of the sound files\n",
    "        return (num_channels, sample_rate, bit_depth)"
   ]
  },
  {
   "cell_type": "code",
   "execution_count": 24,
   "metadata": {},
   "outputs": [],
   "source": [
    "# EXTRACTING THE WAVE FORM FROM SOUND TRACK AND CONVERT TO 1-D ARRAY\n",
    "# n is the mfcc value\n",
    "def extract_feature(file_name, n):  \n",
    "    standard_size = 88200  # standard size for audio signal which is about 2 s\n",
    "    try:\n",
    "        audio, sample_rate = librosa.core.load(file_name, mono=True, res_type='kaiser_fast') \n",
    "        fill = standard_size - audio.shape[0]\n",
    "        # if the sound file is less than 2s, fill the short part with zeros\n",
    "        if(fill>0):\n",
    "            audio = np.concatenate((audio, np.zeros(fill)), axis=0)\n",
    "        # if the file is more than 2s, clip the excess part \n",
    "        elif(fill<0):\n",
    "            audio = audio[:standard_size]\n",
    "            \n",
    "        mfccs = librosa.feature.mfcc(y=audio, sr=sample_rate, n_mfcc=n)\n",
    "        mfccs = librosa.util.normalize(mfccs)  \n",
    "    except Exception as e:\n",
    "        print(\"Error encountered while parsing file: \", file_name)\n",
    "        return None \n",
    "    # return the audio spectrum of the sound file\n",
    "    return mfccs\n",
    "\n",
    "    \n",
    "    \n",
    "# Set the path to the full UrbanSound dataset \n",
    "def audio_extration(n=40):\n",
    "    fulldatasetpath = 'UrbanSound8K/audio/' \n",
    "\n",
    "    metadata = pd.read_csv(fulldatasetpath + 'metadata/UrbanSound8K.csv')\n",
    "\n",
    "    features = []\n",
    "    label_amount = {}\n",
    "\n",
    "    # Iterate through each sound file and extract the features \n",
    "    for index, row in metadata.iterrows():\n",
    "    \n",
    "        file_name = os.path.join(os.path.abspath(fulldatasetpath),'fold'+str(row[\"fold\"])+'/',str(row[\"slice_file_name\"]))\n",
    "    \n",
    "        class_label = row[\"class\"]\n",
    "        data = extract_feature(file_name, n)\n",
    "        label_amount[class_label] = label_amount.get(class_label, 0) + 1\n",
    "        features.append([data, class_label])\n",
    "\n",
    "\n",
    "    # Convert into a Panda dataframe \n",
    "    featuresdf = pd.DataFrame(features, columns=['feature','class_label'])\n",
    "\n",
    "    #print('Finished feature extraction from ', len(featuresdf), ' files')\n",
    "    return featuresdf, metadata"
   ]
  },
  {
   "cell_type": "code",
   "execution_count": 25,
   "metadata": {},
   "outputs": [],
   "source": [
    "# EXTRACT THE CHANNELS, SAMPLE RATE AND BIT DEPTH DATA FROM SOUNDS FILE\n",
    "# use the previous functinons and actually do the info extraction\n",
    "def info_extration(metadata):\n",
    "    wavfilehelper = WavFileHelper()\n",
    "\n",
    "    audiodata = []\n",
    "    for index, row in metadata.iterrows():\n",
    "    \n",
    "        file_name = os.path.join(os.path.abspath('UrbanSound8K/audio/'),'fold'+str(row[\"fold\"])+'/',str(row[\"slice_file_name\"]))\n",
    "        data = wavfilehelper.read_file_properties(file_name)\n",
    "        audiodata.append(data)\n",
    "\n",
    "    # Convert into a Panda dataframe\n",
    "    audiodf = pd.DataFrame(audiodata, columns=['num_channels','sample_rate','bit_depth'])\n",
    "    return audiodf"
   ]
  },
  {
   "cell_type": "code",
   "execution_count": null,
   "metadata": {},
   "outputs": [],
   "source": [
    "# This part is used to test the previous functions\n",
    "'''\n",
    "print(type(featuresdf.iloc[0]['feature']))\n",
    "print(featuresdf.head())\n",
    "print()\n",
    "print(audiodf.head())\n",
    "\n",
    "lst = [0,1,10,23,96,106,114,122,171,196]\n",
    "for n in lst:\n",
    "    import matplotlib.pyplot as plt\n",
    "    %matplotlib inline  \n",
    "    plt.plot(featuresdf.iloc[n]['feature'][5:])\n",
    "    plt.ylabel('Amplitude')\n",
    "    plt.show()\n",
    "    print(featuresdf.iloc[n]['class_label'])\n",
    "'''"
   ]
  },
  {
   "cell_type": "code",
   "execution_count": 26,
   "metadata": {},
   "outputs": [],
   "source": [
    "# SEPERATING DATA TO TRAINING AND TESTING WITH 80% 20% RATIO\n",
    "# use the previous functions and actually read and store all the files in the dataset\n",
    "def data_seperation(featuresdf):\n",
    "    # Convert features and corresponding classification labels into numpy arrays\n",
    "    X = np.array(featuresdf.feature.tolist())\n",
    "    y = np.array(featuresdf.class_label.tolist())\n",
    "\n",
    "    # Encode the labels using Onehot technique\n",
    "    lable_encoder = LabelEncoder()\n",
    "    y_one_hot = to_categorical(lable_encoder.fit_transform(y)) \n",
    "\n",
    "    # split the dataset \n",
    "    train_features, validate_features, train_labels, validate_labels = train_test_split(X, y_one_hot, test_size=0.11, random_state = 42)\n",
    "    train_features, test_features, train_labels, test_labels = train_test_split(train_features, train_labels, test_size=0.12, random_state = 42)\n",
    "    #print(\"Training data set size: \",train_features.shape[0])\n",
    "    #print(\"Validate data set size: \",validate_features.shape[0])\n",
    "    #print(\"Test data set size: \",test_features.shape[0])\n",
    "    return (train_features, validate_features, test_features, train_labels, validate_labels, test_labels, y_one_hot)"
   ]
  },
  {
   "cell_type": "code",
   "execution_count": 27,
   "metadata": {},
   "outputs": [],
   "source": [
    "# Save the data for easy access\n",
    "def save_data(n, train_features, validate_features, test_features, train_labels, validate_labels, test_labels, y_one_hot):\n",
    "    pickle_file = 'audio_features_mfcc'+ str(n) +'.pickle'\n",
    "    if not os.path.isfile(pickle_file):\n",
    "        print('Saving data to pickle file...')\n",
    "        try:\n",
    "            with open(pickle_file, 'wb') as pfile:\n",
    "                pickle.dump(\n",
    "                    {\n",
    "                        'train_dataset': train_features,\n",
    "                        'train_labels': train_labels,\n",
    "                        'valid_dataset': validate_features,\n",
    "                        'valid_labels': validate_labels,\n",
    "                        'test_dataset': test_features,\n",
    "                        'test_labels': test_labels,\n",
    "                        'y_one_hot': y_one_hot,\n",
    "                    },\n",
    "                    pfile, pickle.HIGHEST_PROTOCOL)\n",
    "        except Exception as e:\n",
    "            print('Unable to save data to', pickle_file, ':', e)\n",
    "            raise\n",
    "\n",
    "    print('Data cached in pickle file.')"
   ]
  },
  {
   "cell_type": "code",
   "execution_count": 7,
   "metadata": {},
   "outputs": [],
   "source": [
    "# MODEL BUILDING\n",
    "# n is mfcc number\n",
    "def model_building(n, validate_features, validate_labels, y_one_hot):\n",
    "    num_rows = n  # audio frequency spectrum 173*n\n",
    "    num_columns = 173   \n",
    "    num_channels = 1   # combine 2 channels to one channel\n",
    "    \n",
    "    #validate_features = validate_features.reshape(validate_features.shape[0], num_rows, num_columns, num_channels) \n",
    "    num_labels = y_one_hot.shape[1]\n",
    "    \n",
    "    filter_size = 2   \n",
    "    drop_rate = 0.4  # dropping 40% of data to prevent over-fitting\n",
    "\n",
    "    # Construct model \n",
    "    model = Sequential()\n",
    "    # Layer 1 - Conv Layer 1\n",
    "    model.add(Conv2D(filters=16, kernel_size=2, input_shape=(num_rows, num_columns, num_channels)))\n",
    "    model.add(Activation('relu'))\n",
    "    model.add(MaxPooling2D(pool_size=2))\n",
    "    model.add(Dropout(drop_rate))\n",
    "\n",
    "    # Layer  - Conv Layer 2\n",
    "    model.add(Conv2D(filters=32, kernel_size=2))\n",
    "    model.add(Activation('relu'))\n",
    "    model.add(MaxPooling2D(pool_size=2))\n",
    "    model.add(Dropout(drop_rate))\n",
    "\n",
    "    # Layer 3 - Conv Layer 3\n",
    "    model.add(Conv2D(filters=64, kernel_size=2))\n",
    "    model.add(Activation('relu'))\n",
    "    model.add(MaxPooling2D(pool_size=2))\n",
    "    model.add(Dropout(drop_rate))\n",
    "\n",
    "    # Layer 4 - Conv Layer 4\n",
    "    model.add(Conv2D(filters=128, kernel_size=2))\n",
    "    model.add(Activation('relu'))\n",
    "    model.add(MaxPooling2D(pool_size=2))\n",
    "    model.add(Dropout(drop_rate))\n",
    "    \n",
    "    # Layer 5 - Flatten Layer\n",
    "    model.add(GlobalAveragePooling2D())\n",
    "    model.add(Dense(num_labels, activation='softmax'))\n",
    "    \n",
    "    \n",
    "    \n",
    "    # Compile the model\n",
    "    model.compile(loss='categorical_crossentropy', metrics=['accuracy'], optimizer='adam')\n",
    "    \n",
    "    # Pre-training evaluation\n",
    "    \n",
    "    # Display model architecture summary \n",
    "    # model.summary()\n",
    "\n",
    "    # Calculate pre-training accuracy \n",
    "    # score = model.evaluate(validate_features, validate_labels, verbose=1)\n",
    "    # accuracy = 100*score[1]\n",
    "\n",
    "    # print(\"Pre-training accuracy: %.4f%%\" % accuracy)\n",
    "    return model"
   ]
  },
  {
   "cell_type": "code",
   "execution_count": 8,
   "metadata": {},
   "outputs": [],
   "source": [
    "# Train the model\n",
    "def model_training(n, model, train_features, train_labels, validate_features, \n",
    "                   validate_labels, num_epochs=150, num_batch_size=256):\n",
    "\n",
    "    checkpointer = ModelCheckpoint(filepath='weights.best.basic_cnn.hdf5', verbose=1, save_best_only=True)\n",
    "    \n",
    "    num_rows = n  # audio frequency spectrum 173*40\n",
    "    num_columns = 173   \n",
    "    num_channels = 1   # combine 2 channels to one channel\n",
    "    train_features = train_features.reshape(train_features.shape[0], num_rows, num_columns, num_channels) \n",
    "    validate_features = validate_features.reshape(validate_features.shape[0], num_rows, num_columns, num_channels)   \n",
    "    \n",
    "    #start = datetime.now()\n",
    "\n",
    "    history = model.fit(train_features, train_labels, batch_size=num_batch_size, epochs=num_epochs, validation_data=(validate_features, validate_labels), shuffle=True, callbacks=[checkpointer], verbose=1)\n",
    "\n",
    "    #duration = datetime.now() - start\n",
    "    #print(\"Training completed in time: \", duration)\n",
    "    return history\n",
    "       "
   ]
  },
  {
   "cell_type": "code",
   "execution_count": null,
   "metadata": {
    "scrolled": true
   },
   "outputs": [],
   "source": [
    "# MobileNet model\n",
    "def mobileNet_building(n, validate_features, validate_labels, y_one_hot):\n",
    "    num_rows = n  # audio frequency spectrum n*173\n",
    "    num_columns = 173   \n",
    "    num_channels = 3 \n",
    "    \n",
    "    drop_rate = 0.4  # dropping 40% of data to prevent over-fitting\n",
    "              \n",
    "    input_img = Input(shape=(num_rows, num_columns, num_channels))\n",
    "    mn = MobileNetV2(input_shape=(num_rows, num_columns, num_channels), include_top=False, weights='imagenet',input_tensor=input_img, pooling='max')\n",
    "\n",
    "    # add a layer at the end of the model\n",
    "    # the original MobileNet has 1000 classes, here only have 10 classes\n",
    "    # so add a layer with 10 output at the end\n",
    "    model = Sequential()\n",
    "    model.add(mn)\n",
    "    model.add(Dense(10, activation='softmax'))\n",
    "    \n",
    "    # Compile the MobileNet model\n",
    "    model.compile(loss='categorical_crossentropy', metrics=['accuracy'], optimizer='adam')\n",
    "    model.summary()\n",
    "    return model  "
   ]
  },
  {
   "cell_type": "code",
   "execution_count": null,
   "metadata": {},
   "outputs": [],
   "source": [
    "# Train the model\n",
    "def mobileNet_training(n, model, train_features, train_labels, validate_features, \n",
    "                   validate_labels, num_epochs=150, num_batch_size=256):\n",
    "    \n",
    "    #start = datetime.now()\n",
    "\n",
    "    history = model.fit(train_features, train_labels, batch_size=num_batch_size, epochs=num_epochs, validation_data=(validate_features, validate_labels), shuffle=True, verbose=1)\n",
    "\n",
    "    #duration = datetime.now() - start\n",
    "    #print(\"Training completed in time: \", duration)\n",
    "    return history"
   ]
  },
  {
   "cell_type": "code",
   "execution_count": 9,
   "metadata": {},
   "outputs": [],
   "source": [
    "# load the pickle file to \n",
    "def load_data(pickle_file_path):\n",
    "    file_dict = pickle.load( open( pickle_file_path, \"rb\" ))\n",
    "    return file_dict['train_dataset'], file_dict['valid_dataset'],\\\n",
    "file_dict['test_dataset'],file_dict['train_labels'],\\\n",
    "file_dict['valid_labels'], file_dict['test_labels'], file_dict['y_one_hot']"
   ]
  },
  {
   "cell_type": "code",
   "execution_count": 17,
   "metadata": {},
   "outputs": [],
   "source": [
    "# Pipe Line\n",
    "# experimenting mfcc number\n",
    "def pip(n):\n",
    "    # data preprocessing\n",
    "    '''\n",
    "    featuresdf, metadata = audio_extration(n)\n",
    "    audiodf = info_extration(metadata)\n",
    "    train_features, validate_features, test_features, \\\n",
    "    train_labels, validate_labels, test_labels, y_one_hot = data_seperation(featuresdf)\n",
    "    save_data(n, train_features, validate_features, test_features, train_labels, validate_labels, test_labels, y_one_hot)\n",
    "    '''\n",
    "    # load pre-processed data\n",
    "    pickle_file_path = 'audio_features_mfcc40.pickle'\n",
    "    train_features, validate_features, test_features, train_labels,\\\n",
    "    validate_labels, test_labels, y_one_hot = load_data(pickle_file_path)\n",
    "    \n",
    "    # Simple model\n",
    "    model = model_building(n, validate_features, validate_labels, y_one_hot)\n",
    "    history = model_training(n, model, train_features, train_labels, validate_features, \n",
    "                             validate_labels, num_epochs=150, num_batch_size=256)\n",
    "    # Evaluating the model on the training and testing set\n",
    "\n",
    "    score = model.evaluate(train_features, train_labels, verbose=0)\n",
    "    print(\"Training Accuracy: \", score[1])\n",
    "\n",
    "    score = model.evaluate(valid_features, test_labels, verbose=0)\n",
    "    print(\"Validation Accuracy: \", score[1])\n",
    "    \n",
    "    \n",
    "    # MobileNet\n",
    "    #train_features = np.stack((train_features, train_features, train_features), axis=3)\n",
    "    \n",
    "    #validate_features = np.stack((validate_features, validate_features, validate_features), axis=3)\n",
    "    #print(train_features.shape)\n",
    "    #print(validate_features.shape)\n",
    "    #model = mobileNet_building(n, validate_features, validate_labels, y_one_hot)\n",
    "    #history = mobileNet_training(n, model, train_features, train_labels, validate_features, \n",
    "    #                         validate_labels, num_epochs=50, num_batch_size=256)\n",
    "    \n",
    "    return history, model"
   ]
  },
  {
   "cell_type": "code",
   "execution_count": 53,
   "metadata": {},
   "outputs": [
    {
     "name": "stdout",
     "output_type": "stream",
     "text": [
      "Train on 6838 samples, validate on 961 samples\n",
      "Epoch 1/150\n",
      "6838/6838 [==============================] - 12s 2ms/step - loss: 2.1950 - acc: 0.1676 - val_loss: 2.1446 - val_acc: 0.2279\n",
      "\n",
      "Epoch 00001: val_loss improved from inf to 2.14464, saving model to weights.best.basic_cnn.hdf5\n",
      "Epoch 2/150\n",
      "6838/6838 [==============================] - 11s 2ms/step - loss: 1.9798 - acc: 0.2723 - val_loss: 1.9321 - val_acc: 0.3049\n",
      "\n",
      "Epoch 00002: val_loss improved from 2.14464 to 1.93206, saving model to weights.best.basic_cnn.hdf5\n",
      "Epoch 3/150\n",
      "6838/6838 [==============================] - 11s 2ms/step - loss: 1.8367 - acc: 0.3184 - val_loss: 1.8256 - val_acc: 0.3538\n",
      "\n",
      "Epoch 00003: val_loss improved from 1.93206 to 1.82564, saving model to weights.best.basic_cnn.hdf5\n",
      "Epoch 4/150\n",
      "6838/6838 [==============================] - 12s 2ms/step - loss: 1.7272 - acc: 0.3655 - val_loss: 1.7138 - val_acc: 0.4100\n",
      "\n",
      "Epoch 00004: val_loss improved from 1.82564 to 1.71378, saving model to weights.best.basic_cnn.hdf5\n",
      "Epoch 5/150\n",
      "6838/6838 [==============================] - 12s 2ms/step - loss: 1.6322 - acc: 0.4125 - val_loss: 1.5979 - val_acc: 0.4339\n",
      "\n",
      "Epoch 00005: val_loss improved from 1.71378 to 1.59789, saving model to weights.best.basic_cnn.hdf5\n",
      "Epoch 6/150\n",
      "6838/6838 [==============================] - 12s 2ms/step - loss: 1.5418 - acc: 0.4498 - val_loss: 1.5239 - val_acc: 0.4568\n",
      "\n",
      "Epoch 00006: val_loss improved from 1.59789 to 1.52388, saving model to weights.best.basic_cnn.hdf5\n",
      "Epoch 7/150\n",
      "6838/6838 [==============================] - 11s 2ms/step - loss: 1.4755 - acc: 0.4784 - val_loss: 1.4480 - val_acc: 0.5057\n",
      "\n",
      "Epoch 00007: val_loss improved from 1.52388 to 1.44799, saving model to weights.best.basic_cnn.hdf5\n",
      "Epoch 8/150\n",
      "6838/6838 [==============================] - 11s 2ms/step - loss: 1.4048 - acc: 0.5034 - val_loss: 1.3976 - val_acc: 0.5307\n",
      "\n",
      "Epoch 00008: val_loss improved from 1.44799 to 1.39758, saving model to weights.best.basic_cnn.hdf5\n",
      "Epoch 9/150\n",
      "6838/6838 [==============================] - 12s 2ms/step - loss: 1.3668 - acc: 0.5231 - val_loss: 1.3554 - val_acc: 0.5286\n",
      "\n",
      "Epoch 00009: val_loss improved from 1.39758 to 1.35537, saving model to weights.best.basic_cnn.hdf5\n",
      "Epoch 10/150\n",
      "6838/6838 [==============================] - 13s 2ms/step - loss: 1.3281 - acc: 0.5313 - val_loss: 1.3101 - val_acc: 0.5546\n",
      "\n",
      "Epoch 00010: val_loss improved from 1.35537 to 1.31008, saving model to weights.best.basic_cnn.hdf5\n",
      "Epoch 11/150\n",
      "6838/6838 [==============================] - 12s 2ms/step - loss: 1.2975 - acc: 0.5436 - val_loss: 1.2828 - val_acc: 0.5796\n",
      "\n",
      "Epoch 00011: val_loss improved from 1.31008 to 1.28281, saving model to weights.best.basic_cnn.hdf5\n",
      "Epoch 12/150\n",
      "6838/6838 [==============================] - 12s 2ms/step - loss: 1.2741 - acc: 0.5486 - val_loss: 1.2564 - val_acc: 0.5713\n",
      "\n",
      "Epoch 00012: val_loss improved from 1.28281 to 1.25642, saving model to weights.best.basic_cnn.hdf5\n",
      "Epoch 13/150\n",
      "6838/6838 [==============================] - 12s 2ms/step - loss: 1.2381 - acc: 0.5674 - val_loss: 1.2130 - val_acc: 0.5890\n",
      "\n",
      "Epoch 00013: val_loss improved from 1.25642 to 1.21298, saving model to weights.best.basic_cnn.hdf5\n",
      "Epoch 14/150\n",
      "6838/6838 [==============================] - 12s 2ms/step - loss: 1.2117 - acc: 0.5693 - val_loss: 1.1936 - val_acc: 0.5921\n",
      "\n",
      "Epoch 00014: val_loss improved from 1.21298 to 1.19360, saving model to weights.best.basic_cnn.hdf5\n",
      "Epoch 15/150\n",
      "6838/6838 [==============================] - 12s 2ms/step - loss: 1.1967 - acc: 0.5798 - val_loss: 1.1812 - val_acc: 0.6056\n",
      "\n",
      "Epoch 00015: val_loss improved from 1.19360 to 1.18120, saving model to weights.best.basic_cnn.hdf5\n",
      "Epoch 16/150\n",
      "6838/6838 [==============================] - 12s 2ms/step - loss: 1.1754 - acc: 0.5888 - val_loss: 1.1610 - val_acc: 0.6160\n",
      "\n",
      "Epoch 00016: val_loss improved from 1.18120 to 1.16101, saving model to weights.best.basic_cnn.hdf5\n",
      "Epoch 17/150\n",
      "6838/6838 [==============================] - 12s 2ms/step - loss: 1.1470 - acc: 0.6005 - val_loss: 1.1415 - val_acc: 0.6087\n",
      "\n",
      "Epoch 00017: val_loss improved from 1.16101 to 1.14154, saving model to weights.best.basic_cnn.hdf5\n",
      "Epoch 18/150\n",
      "2048/6838 [=======>......................] - ETA: 8s - loss: 1.1310 - acc: 0.5957"
     ]
    },
    {
     "ename": "KeyboardInterrupt",
     "evalue": "",
     "output_type": "error",
     "traceback": [
      "\u001b[0;31m---------------------------------------------------------------------------\u001b[0m",
      "\u001b[0;31mKeyboardInterrupt\u001b[0m                         Traceback (most recent call last)",
      "\u001b[0;32m<ipython-input-53-2f46d3ed353f>\u001b[0m in \u001b[0;36m<module>\u001b[0;34m\u001b[0m\n\u001b[1;32m      5\u001b[0m \u001b[0mhistory_list\u001b[0m \u001b[0;34m=\u001b[0m \u001b[0;34m[\u001b[0m\u001b[0;34m]\u001b[0m\u001b[0;34m\u001b[0m\u001b[0;34m\u001b[0m\u001b[0m\n\u001b[1;32m      6\u001b[0m \u001b[0;32mfor\u001b[0m \u001b[0mn\u001b[0m \u001b[0;32min\u001b[0m \u001b[0mmfcc_num\u001b[0m\u001b[0;34m:\u001b[0m\u001b[0;34m\u001b[0m\u001b[0;34m\u001b[0m\u001b[0m\n\u001b[0;32m----> 7\u001b[0;31m     \u001b[0mhistory\u001b[0m \u001b[0;34m=\u001b[0m \u001b[0mpip\u001b[0m\u001b[0;34m(\u001b[0m\u001b[0mn\u001b[0m\u001b[0;34m)\u001b[0m\u001b[0;34m\u001b[0m\u001b[0;34m\u001b[0m\u001b[0m\n\u001b[0m\u001b[1;32m      8\u001b[0m     \u001b[0mhistory_list\u001b[0m\u001b[0;34m.\u001b[0m\u001b[0mappend\u001b[0m\u001b[0;34m(\u001b[0m\u001b[0mhistory\u001b[0m\u001b[0;34m)\u001b[0m\u001b[0;34m\u001b[0m\u001b[0;34m\u001b[0m\u001b[0m\n\u001b[1;32m      9\u001b[0m     \u001b[0maccuracy\u001b[0m\u001b[0;34m.\u001b[0m\u001b[0mappend\u001b[0m\u001b[0;34m(\u001b[0m\u001b[0mhistory\u001b[0m\u001b[0;34m.\u001b[0m\u001b[0mhistory\u001b[0m\u001b[0;34m[\u001b[0m\u001b[0;34m'val_acc'\u001b[0m\u001b[0;34m]\u001b[0m\u001b[0;34m[\u001b[0m\u001b[0;34m-\u001b[0m\u001b[0;36m1\u001b[0m\u001b[0;34m]\u001b[0m\u001b[0;34m)\u001b[0m\u001b[0;34m\u001b[0m\u001b[0;34m\u001b[0m\u001b[0m\n",
      "\u001b[0;32m<ipython-input-17-3f5c091116a1>\u001b[0m in \u001b[0;36mpip\u001b[0;34m(n)\u001b[0m\n\u001b[1;32m     18\u001b[0m     \u001b[0mmodel\u001b[0m \u001b[0;34m=\u001b[0m \u001b[0mmodel_building\u001b[0m\u001b[0;34m(\u001b[0m\u001b[0mn\u001b[0m\u001b[0;34m,\u001b[0m \u001b[0mvalidate_features\u001b[0m\u001b[0;34m,\u001b[0m \u001b[0mvalidate_labels\u001b[0m\u001b[0;34m,\u001b[0m \u001b[0my_one_hot\u001b[0m\u001b[0;34m)\u001b[0m\u001b[0;34m\u001b[0m\u001b[0;34m\u001b[0m\u001b[0m\n\u001b[1;32m     19\u001b[0m     history = model_training(n, model, train_features, train_labels, validate_features, \n\u001b[0;32m---> 20\u001b[0;31m                              validate_labels, num_epochs=150, num_batch_size=256)\n\u001b[0m\u001b[1;32m     21\u001b[0m \u001b[0;34m\u001b[0m\u001b[0m\n\u001b[1;32m     22\u001b[0m     \u001b[0;31m# MobileNet\u001b[0m\u001b[0;34m\u001b[0m\u001b[0;34m\u001b[0m\u001b[0;34m\u001b[0m\u001b[0m\n",
      "\u001b[0;32m<ipython-input-8-8f29724cf455>\u001b[0m in \u001b[0;36mmodel_training\u001b[0;34m(n, model, train_features, train_labels, validate_features, validate_labels, num_epochs, num_batch_size)\u001b[0m\n\u001b[1;32m     13\u001b[0m     \u001b[0;31m#start = datetime.now()\u001b[0m\u001b[0;34m\u001b[0m\u001b[0;34m\u001b[0m\u001b[0;34m\u001b[0m\u001b[0m\n\u001b[1;32m     14\u001b[0m \u001b[0;34m\u001b[0m\u001b[0m\n\u001b[0;32m---> 15\u001b[0;31m     \u001b[0mhistory\u001b[0m \u001b[0;34m=\u001b[0m \u001b[0mmodel\u001b[0m\u001b[0;34m.\u001b[0m\u001b[0mfit\u001b[0m\u001b[0;34m(\u001b[0m\u001b[0mtrain_features\u001b[0m\u001b[0;34m,\u001b[0m \u001b[0mtrain_labels\u001b[0m\u001b[0;34m,\u001b[0m \u001b[0mbatch_size\u001b[0m\u001b[0;34m=\u001b[0m\u001b[0mnum_batch_size\u001b[0m\u001b[0;34m,\u001b[0m \u001b[0mepochs\u001b[0m\u001b[0;34m=\u001b[0m\u001b[0mnum_epochs\u001b[0m\u001b[0;34m,\u001b[0m \u001b[0mvalidation_data\u001b[0m\u001b[0;34m=\u001b[0m\u001b[0;34m(\u001b[0m\u001b[0mvalidate_features\u001b[0m\u001b[0;34m,\u001b[0m \u001b[0mvalidate_labels\u001b[0m\u001b[0;34m)\u001b[0m\u001b[0;34m,\u001b[0m \u001b[0mshuffle\u001b[0m\u001b[0;34m=\u001b[0m\u001b[0;32mTrue\u001b[0m\u001b[0;34m,\u001b[0m \u001b[0mcallbacks\u001b[0m\u001b[0;34m=\u001b[0m\u001b[0;34m[\u001b[0m\u001b[0mcheckpointer\u001b[0m\u001b[0;34m]\u001b[0m\u001b[0;34m,\u001b[0m \u001b[0mverbose\u001b[0m\u001b[0;34m=\u001b[0m\u001b[0;36m1\u001b[0m\u001b[0;34m)\u001b[0m\u001b[0;34m\u001b[0m\u001b[0;34m\u001b[0m\u001b[0m\n\u001b[0m\u001b[1;32m     16\u001b[0m \u001b[0;34m\u001b[0m\u001b[0m\n\u001b[1;32m     17\u001b[0m     \u001b[0;31m#duration = datetime.now() - start\u001b[0m\u001b[0;34m\u001b[0m\u001b[0;34m\u001b[0m\u001b[0;34m\u001b[0m\u001b[0m\n",
      "\u001b[0;32m~/miniconda3/lib/python3.7/site-packages/keras/engine/training.py\u001b[0m in \u001b[0;36mfit\u001b[0;34m(self, x, y, batch_size, epochs, verbose, callbacks, validation_split, validation_data, shuffle, class_weight, sample_weight, initial_epoch, steps_per_epoch, validation_steps, validation_freq, max_queue_size, workers, use_multiprocessing, **kwargs)\u001b[0m\n\u001b[1;32m   1176\u001b[0m                                         \u001b[0msteps_per_epoch\u001b[0m\u001b[0;34m=\u001b[0m\u001b[0msteps_per_epoch\u001b[0m\u001b[0;34m,\u001b[0m\u001b[0;34m\u001b[0m\u001b[0;34m\u001b[0m\u001b[0m\n\u001b[1;32m   1177\u001b[0m                                         \u001b[0mvalidation_steps\u001b[0m\u001b[0;34m=\u001b[0m\u001b[0mvalidation_steps\u001b[0m\u001b[0;34m,\u001b[0m\u001b[0;34m\u001b[0m\u001b[0;34m\u001b[0m\u001b[0m\n\u001b[0;32m-> 1178\u001b[0;31m                                         validation_freq=validation_freq)\n\u001b[0m\u001b[1;32m   1179\u001b[0m \u001b[0;34m\u001b[0m\u001b[0m\n\u001b[1;32m   1180\u001b[0m     def evaluate(self,\n",
      "\u001b[0;32m~/miniconda3/lib/python3.7/site-packages/keras/engine/training_arrays.py\u001b[0m in \u001b[0;36mfit_loop\u001b[0;34m(model, fit_function, fit_inputs, out_labels, batch_size, epochs, verbose, callbacks, val_function, val_inputs, shuffle, callback_metrics, initial_epoch, steps_per_epoch, validation_steps, validation_freq)\u001b[0m\n\u001b[1;32m    202\u001b[0m                     \u001b[0mins_batch\u001b[0m\u001b[0;34m[\u001b[0m\u001b[0mi\u001b[0m\u001b[0;34m]\u001b[0m \u001b[0;34m=\u001b[0m \u001b[0mins_batch\u001b[0m\u001b[0;34m[\u001b[0m\u001b[0mi\u001b[0m\u001b[0;34m]\u001b[0m\u001b[0;34m.\u001b[0m\u001b[0mtoarray\u001b[0m\u001b[0;34m(\u001b[0m\u001b[0;34m)\u001b[0m\u001b[0;34m\u001b[0m\u001b[0;34m\u001b[0m\u001b[0m\n\u001b[1;32m    203\u001b[0m \u001b[0;34m\u001b[0m\u001b[0m\n\u001b[0;32m--> 204\u001b[0;31m                 \u001b[0mouts\u001b[0m \u001b[0;34m=\u001b[0m \u001b[0mfit_function\u001b[0m\u001b[0;34m(\u001b[0m\u001b[0mins_batch\u001b[0m\u001b[0;34m)\u001b[0m\u001b[0;34m\u001b[0m\u001b[0;34m\u001b[0m\u001b[0m\n\u001b[0m\u001b[1;32m    205\u001b[0m                 \u001b[0mouts\u001b[0m \u001b[0;34m=\u001b[0m \u001b[0mto_list\u001b[0m\u001b[0;34m(\u001b[0m\u001b[0mouts\u001b[0m\u001b[0;34m)\u001b[0m\u001b[0;34m\u001b[0m\u001b[0;34m\u001b[0m\u001b[0m\n\u001b[1;32m    206\u001b[0m                 \u001b[0;32mfor\u001b[0m \u001b[0ml\u001b[0m\u001b[0;34m,\u001b[0m \u001b[0mo\u001b[0m \u001b[0;32min\u001b[0m \u001b[0mzip\u001b[0m\u001b[0;34m(\u001b[0m\u001b[0mout_labels\u001b[0m\u001b[0;34m,\u001b[0m \u001b[0mouts\u001b[0m\u001b[0;34m)\u001b[0m\u001b[0;34m:\u001b[0m\u001b[0;34m\u001b[0m\u001b[0;34m\u001b[0m\u001b[0m\n",
      "\u001b[0;32m~/miniconda3/lib/python3.7/site-packages/keras/backend/tensorflow_backend.py\u001b[0m in \u001b[0;36m__call__\u001b[0;34m(self, inputs)\u001b[0m\n\u001b[1;32m   2977\u001b[0m                     \u001b[0;32mreturn\u001b[0m \u001b[0mself\u001b[0m\u001b[0;34m.\u001b[0m\u001b[0m_legacy_call\u001b[0m\u001b[0;34m(\u001b[0m\u001b[0minputs\u001b[0m\u001b[0;34m)\u001b[0m\u001b[0;34m\u001b[0m\u001b[0;34m\u001b[0m\u001b[0m\n\u001b[1;32m   2978\u001b[0m \u001b[0;34m\u001b[0m\u001b[0m\n\u001b[0;32m-> 2979\u001b[0;31m             \u001b[0;32mreturn\u001b[0m \u001b[0mself\u001b[0m\u001b[0;34m.\u001b[0m\u001b[0m_call\u001b[0m\u001b[0;34m(\u001b[0m\u001b[0minputs\u001b[0m\u001b[0;34m)\u001b[0m\u001b[0;34m\u001b[0m\u001b[0;34m\u001b[0m\u001b[0m\n\u001b[0m\u001b[1;32m   2980\u001b[0m         \u001b[0;32melse\u001b[0m\u001b[0;34m:\u001b[0m\u001b[0;34m\u001b[0m\u001b[0;34m\u001b[0m\u001b[0m\n\u001b[1;32m   2981\u001b[0m             \u001b[0;32mif\u001b[0m \u001b[0mpy_any\u001b[0m\u001b[0;34m(\u001b[0m\u001b[0mis_tensor\u001b[0m\u001b[0;34m(\u001b[0m\u001b[0mx\u001b[0m\u001b[0;34m)\u001b[0m \u001b[0;32mfor\u001b[0m \u001b[0mx\u001b[0m \u001b[0;32min\u001b[0m \u001b[0minputs\u001b[0m\u001b[0;34m)\u001b[0m\u001b[0;34m:\u001b[0m\u001b[0;34m\u001b[0m\u001b[0;34m\u001b[0m\u001b[0m\n",
      "\u001b[0;32m~/miniconda3/lib/python3.7/site-packages/keras/backend/tensorflow_backend.py\u001b[0m in \u001b[0;36m_call\u001b[0;34m(self, inputs)\u001b[0m\n\u001b[1;32m   2935\u001b[0m             \u001b[0mfetched\u001b[0m \u001b[0;34m=\u001b[0m \u001b[0mself\u001b[0m\u001b[0;34m.\u001b[0m\u001b[0m_callable_fn\u001b[0m\u001b[0;34m(\u001b[0m\u001b[0;34m*\u001b[0m\u001b[0marray_vals\u001b[0m\u001b[0;34m,\u001b[0m \u001b[0mrun_metadata\u001b[0m\u001b[0;34m=\u001b[0m\u001b[0mself\u001b[0m\u001b[0;34m.\u001b[0m\u001b[0mrun_metadata\u001b[0m\u001b[0;34m)\u001b[0m\u001b[0;34m\u001b[0m\u001b[0;34m\u001b[0m\u001b[0m\n\u001b[1;32m   2936\u001b[0m         \u001b[0;32melse\u001b[0m\u001b[0;34m:\u001b[0m\u001b[0;34m\u001b[0m\u001b[0;34m\u001b[0m\u001b[0m\n\u001b[0;32m-> 2937\u001b[0;31m             \u001b[0mfetched\u001b[0m \u001b[0;34m=\u001b[0m \u001b[0mself\u001b[0m\u001b[0;34m.\u001b[0m\u001b[0m_callable_fn\u001b[0m\u001b[0;34m(\u001b[0m\u001b[0;34m*\u001b[0m\u001b[0marray_vals\u001b[0m\u001b[0;34m)\u001b[0m\u001b[0;34m\u001b[0m\u001b[0;34m\u001b[0m\u001b[0m\n\u001b[0m\u001b[1;32m   2938\u001b[0m         \u001b[0;32mreturn\u001b[0m \u001b[0mfetched\u001b[0m\u001b[0;34m[\u001b[0m\u001b[0;34m:\u001b[0m\u001b[0mlen\u001b[0m\u001b[0;34m(\u001b[0m\u001b[0mself\u001b[0m\u001b[0;34m.\u001b[0m\u001b[0moutputs\u001b[0m\u001b[0;34m)\u001b[0m\u001b[0;34m]\u001b[0m\u001b[0;34m\u001b[0m\u001b[0;34m\u001b[0m\u001b[0m\n\u001b[1;32m   2939\u001b[0m \u001b[0;34m\u001b[0m\u001b[0m\n",
      "\u001b[0;32m~/miniconda3/lib/python3.7/site-packages/tensorflow_core/python/client/session.py\u001b[0m in \u001b[0;36m__call__\u001b[0;34m(self, *args, **kwargs)\u001b[0m\n\u001b[1;32m   1470\u001b[0m         ret = tf_session.TF_SessionRunCallable(self._session._session,\n\u001b[1;32m   1471\u001b[0m                                                \u001b[0mself\u001b[0m\u001b[0;34m.\u001b[0m\u001b[0m_handle\u001b[0m\u001b[0;34m,\u001b[0m \u001b[0margs\u001b[0m\u001b[0;34m,\u001b[0m\u001b[0;34m\u001b[0m\u001b[0;34m\u001b[0m\u001b[0m\n\u001b[0;32m-> 1472\u001b[0;31m                                                run_metadata_ptr)\n\u001b[0m\u001b[1;32m   1473\u001b[0m         \u001b[0;32mif\u001b[0m \u001b[0mrun_metadata\u001b[0m\u001b[0;34m:\u001b[0m\u001b[0;34m\u001b[0m\u001b[0;34m\u001b[0m\u001b[0m\n\u001b[1;32m   1474\u001b[0m           \u001b[0mproto_data\u001b[0m \u001b[0;34m=\u001b[0m \u001b[0mtf_session\u001b[0m\u001b[0;34m.\u001b[0m\u001b[0mTF_GetBuffer\u001b[0m\u001b[0;34m(\u001b[0m\u001b[0mrun_metadata_ptr\u001b[0m\u001b[0;34m)\u001b[0m\u001b[0;34m\u001b[0m\u001b[0;34m\u001b[0m\u001b[0m\n",
      "\u001b[0;31mKeyboardInterrupt\u001b[0m: "
     ]
    }
   ],
   "source": [
    "# evaluate the effect of different MFCC number vs model accuracy\n",
    "mfcc_num = list(range(40,260,20))\n",
    "accuracy = []\n",
    "history_list = []\n",
    "for n in mfcc_num:\n",
    "    history = pip(n)\n",
    "    history_list.append(history)\n",
    "    accuracy.append(history.history['val_acc'][-1])\n",
    "\n",
    "plt.plot(mfcc_num, accuracy)\n",
    "plt.title('Model Accuracy vs. MFCC Number')\n",
    "plt.ylabel('Accuracy')\n",
    "plt.xlabel('MFCC Number')\n",
    "plt.savefig('Model Accuracy vs. MFCC Number.png')\n",
    "plt.show()\n"
   ]
  },
  {
   "cell_type": "code",
   "execution_count": 59,
   "metadata": {},
   "outputs": [
    {
     "name": "stdout",
     "output_type": "stream",
     "text": [
      "Training history saved to pickle file.\n"
     ]
    }
   ],
   "source": [
    "pickle_file = 'training_history.pickle'\n",
    "if not os.path.isfile(pickle_file):\n",
    "    print('Saving data to pickle file...')\n",
    "    try:\n",
    "        with open(pickle_file, 'wb') as pfile:\n",
    "            pickle.dump(\n",
    "                {\n",
    "                        'history_list': history_list,\n",
    "\n",
    "                },\n",
    "                pfile, pickle.HIGHEST_PROTOCOL)\n",
    "    except Exception as e:\n",
    "        print('Unable to save data to', pickle_file, ':', e)\n",
    "        raise\n",
    "\n",
    "print('Training history saved to pickle file.')"
   ]
  },
  {
   "cell_type": "code",
   "execution_count": 60,
   "metadata": {
    "scrolled": true
   },
   "outputs": [
    {
     "name": "stdout",
     "output_type": "stream",
     "text": [
      "Train on 6838 samples, validate on 961 samples\n",
      "Epoch 1/150\n",
      "6838/6838 [==============================] - 13s 2ms/step - loss: 2.2076 - acc: 0.1481 - val_loss: 2.1779 - val_acc: 0.2435\n",
      "\n",
      "Epoch 00001: val_loss improved from inf to 2.17792, saving model to weights.best.basic_cnn.hdf5\n",
      "Epoch 2/150\n",
      "6838/6838 [==============================] - 12s 2ms/step - loss: 2.0178 - acc: 0.2675 - val_loss: 1.9808 - val_acc: 0.3278\n",
      "\n",
      "Epoch 00002: val_loss improved from 2.17792 to 1.98083, saving model to weights.best.basic_cnn.hdf5\n",
      "Epoch 3/150\n",
      "6838/6838 [==============================] - 14s 2ms/step - loss: 1.8135 - acc: 0.3472 - val_loss: 1.7730 - val_acc: 0.3954\n",
      "\n",
      "Epoch 00003: val_loss improved from 1.98083 to 1.77296, saving model to weights.best.basic_cnn.hdf5\n",
      "Epoch 4/150\n",
      "6838/6838 [==============================] - 12s 2ms/step - loss: 1.6801 - acc: 0.4000 - val_loss: 1.6595 - val_acc: 0.4225\n",
      "\n",
      "Epoch 00004: val_loss improved from 1.77296 to 1.65948, saving model to weights.best.basic_cnn.hdf5\n",
      "Epoch 5/150\n",
      "6838/6838 [==============================] - 11s 2ms/step - loss: 1.5615 - acc: 0.4345 - val_loss: 1.5584 - val_acc: 0.4807\n",
      "\n",
      "Epoch 00005: val_loss improved from 1.65948 to 1.55840, saving model to weights.best.basic_cnn.hdf5\n",
      "Epoch 6/150\n",
      "6838/6838 [==============================] - 12s 2ms/step - loss: 1.4880 - acc: 0.4681 - val_loss: 1.4745 - val_acc: 0.5047\n",
      "\n",
      "Epoch 00006: val_loss improved from 1.55840 to 1.47448, saving model to weights.best.basic_cnn.hdf5\n",
      "Epoch 7/150\n",
      "6838/6838 [==============================] - 12s 2ms/step - loss: 1.4219 - acc: 0.4939 - val_loss: 1.4306 - val_acc: 0.4964\n",
      "\n",
      "Epoch 00007: val_loss improved from 1.47448 to 1.43061, saving model to weights.best.basic_cnn.hdf5\n",
      "Epoch 8/150\n",
      "3584/6838 [==============>...............] - ETA: 5s - loss: 1.3859 - acc: 0.5095"
     ]
    },
    {
     "ename": "KeyboardInterrupt",
     "evalue": "",
     "output_type": "error",
     "traceback": [
      "\u001b[0;31m---------------------------------------------------------------------------\u001b[0m",
      "\u001b[0;31mKeyboardInterrupt\u001b[0m                         Traceback (most recent call last)",
      "\u001b[0;32m<ipython-input-60-c00bec559d22>\u001b[0m in \u001b[0;36m<module>\u001b[0;34m\u001b[0m\n\u001b[1;32m      1\u001b[0m \u001b[0;31m# training the model based on pretrained weights\u001b[0m\u001b[0;34m\u001b[0m\u001b[0;34m\u001b[0m\u001b[0;34m\u001b[0m\u001b[0m\n\u001b[0;32m----> 2\u001b[0;31m \u001b[0mhistory\u001b[0m\u001b[0;34m,\u001b[0m \u001b[0mmodel\u001b[0m \u001b[0;34m=\u001b[0m \u001b[0mpip\u001b[0m\u001b[0;34m(\u001b[0m\u001b[0;36m40\u001b[0m\u001b[0;34m)\u001b[0m\u001b[0;34m\u001b[0m\u001b[0;34m\u001b[0m\u001b[0m\n\u001b[0m",
      "\u001b[0;32m<ipython-input-17-3f5c091116a1>\u001b[0m in \u001b[0;36mpip\u001b[0;34m(n)\u001b[0m\n\u001b[1;32m     18\u001b[0m     \u001b[0mmodel\u001b[0m \u001b[0;34m=\u001b[0m \u001b[0mmodel_building\u001b[0m\u001b[0;34m(\u001b[0m\u001b[0mn\u001b[0m\u001b[0;34m,\u001b[0m \u001b[0mvalidate_features\u001b[0m\u001b[0;34m,\u001b[0m \u001b[0mvalidate_labels\u001b[0m\u001b[0;34m,\u001b[0m \u001b[0my_one_hot\u001b[0m\u001b[0;34m)\u001b[0m\u001b[0;34m\u001b[0m\u001b[0;34m\u001b[0m\u001b[0m\n\u001b[1;32m     19\u001b[0m     history = model_training(n, model, train_features, train_labels, validate_features, \n\u001b[0;32m---> 20\u001b[0;31m                              validate_labels, num_epochs=150, num_batch_size=256)\n\u001b[0m\u001b[1;32m     21\u001b[0m \u001b[0;34m\u001b[0m\u001b[0m\n\u001b[1;32m     22\u001b[0m     \u001b[0;31m# MobileNet\u001b[0m\u001b[0;34m\u001b[0m\u001b[0;34m\u001b[0m\u001b[0;34m\u001b[0m\u001b[0m\n",
      "\u001b[0;32m<ipython-input-8-8f29724cf455>\u001b[0m in \u001b[0;36mmodel_training\u001b[0;34m(n, model, train_features, train_labels, validate_features, validate_labels, num_epochs, num_batch_size)\u001b[0m\n\u001b[1;32m     13\u001b[0m     \u001b[0;31m#start = datetime.now()\u001b[0m\u001b[0;34m\u001b[0m\u001b[0;34m\u001b[0m\u001b[0;34m\u001b[0m\u001b[0m\n\u001b[1;32m     14\u001b[0m \u001b[0;34m\u001b[0m\u001b[0m\n\u001b[0;32m---> 15\u001b[0;31m     \u001b[0mhistory\u001b[0m \u001b[0;34m=\u001b[0m \u001b[0mmodel\u001b[0m\u001b[0;34m.\u001b[0m\u001b[0mfit\u001b[0m\u001b[0;34m(\u001b[0m\u001b[0mtrain_features\u001b[0m\u001b[0;34m,\u001b[0m \u001b[0mtrain_labels\u001b[0m\u001b[0;34m,\u001b[0m \u001b[0mbatch_size\u001b[0m\u001b[0;34m=\u001b[0m\u001b[0mnum_batch_size\u001b[0m\u001b[0;34m,\u001b[0m \u001b[0mepochs\u001b[0m\u001b[0;34m=\u001b[0m\u001b[0mnum_epochs\u001b[0m\u001b[0;34m,\u001b[0m \u001b[0mvalidation_data\u001b[0m\u001b[0;34m=\u001b[0m\u001b[0;34m(\u001b[0m\u001b[0mvalidate_features\u001b[0m\u001b[0;34m,\u001b[0m \u001b[0mvalidate_labels\u001b[0m\u001b[0;34m)\u001b[0m\u001b[0;34m,\u001b[0m \u001b[0mshuffle\u001b[0m\u001b[0;34m=\u001b[0m\u001b[0;32mTrue\u001b[0m\u001b[0;34m,\u001b[0m \u001b[0mcallbacks\u001b[0m\u001b[0;34m=\u001b[0m\u001b[0;34m[\u001b[0m\u001b[0mcheckpointer\u001b[0m\u001b[0;34m]\u001b[0m\u001b[0;34m,\u001b[0m \u001b[0mverbose\u001b[0m\u001b[0;34m=\u001b[0m\u001b[0;36m1\u001b[0m\u001b[0;34m)\u001b[0m\u001b[0;34m\u001b[0m\u001b[0;34m\u001b[0m\u001b[0m\n\u001b[0m\u001b[1;32m     16\u001b[0m \u001b[0;34m\u001b[0m\u001b[0m\n\u001b[1;32m     17\u001b[0m     \u001b[0;31m#duration = datetime.now() - start\u001b[0m\u001b[0;34m\u001b[0m\u001b[0;34m\u001b[0m\u001b[0;34m\u001b[0m\u001b[0m\n",
      "\u001b[0;32m~/miniconda3/lib/python3.7/site-packages/keras/engine/training.py\u001b[0m in \u001b[0;36mfit\u001b[0;34m(self, x, y, batch_size, epochs, verbose, callbacks, validation_split, validation_data, shuffle, class_weight, sample_weight, initial_epoch, steps_per_epoch, validation_steps, validation_freq, max_queue_size, workers, use_multiprocessing, **kwargs)\u001b[0m\n\u001b[1;32m   1176\u001b[0m                                         \u001b[0msteps_per_epoch\u001b[0m\u001b[0;34m=\u001b[0m\u001b[0msteps_per_epoch\u001b[0m\u001b[0;34m,\u001b[0m\u001b[0;34m\u001b[0m\u001b[0;34m\u001b[0m\u001b[0m\n\u001b[1;32m   1177\u001b[0m                                         \u001b[0mvalidation_steps\u001b[0m\u001b[0;34m=\u001b[0m\u001b[0mvalidation_steps\u001b[0m\u001b[0;34m,\u001b[0m\u001b[0;34m\u001b[0m\u001b[0;34m\u001b[0m\u001b[0m\n\u001b[0;32m-> 1178\u001b[0;31m                                         validation_freq=validation_freq)\n\u001b[0m\u001b[1;32m   1179\u001b[0m \u001b[0;34m\u001b[0m\u001b[0m\n\u001b[1;32m   1180\u001b[0m     def evaluate(self,\n",
      "\u001b[0;32m~/miniconda3/lib/python3.7/site-packages/keras/engine/training_arrays.py\u001b[0m in \u001b[0;36mfit_loop\u001b[0;34m(model, fit_function, fit_inputs, out_labels, batch_size, epochs, verbose, callbacks, val_function, val_inputs, shuffle, callback_metrics, initial_epoch, steps_per_epoch, validation_steps, validation_freq)\u001b[0m\n\u001b[1;32m    202\u001b[0m                     \u001b[0mins_batch\u001b[0m\u001b[0;34m[\u001b[0m\u001b[0mi\u001b[0m\u001b[0;34m]\u001b[0m \u001b[0;34m=\u001b[0m \u001b[0mins_batch\u001b[0m\u001b[0;34m[\u001b[0m\u001b[0mi\u001b[0m\u001b[0;34m]\u001b[0m\u001b[0;34m.\u001b[0m\u001b[0mtoarray\u001b[0m\u001b[0;34m(\u001b[0m\u001b[0;34m)\u001b[0m\u001b[0;34m\u001b[0m\u001b[0;34m\u001b[0m\u001b[0m\n\u001b[1;32m    203\u001b[0m \u001b[0;34m\u001b[0m\u001b[0m\n\u001b[0;32m--> 204\u001b[0;31m                 \u001b[0mouts\u001b[0m \u001b[0;34m=\u001b[0m \u001b[0mfit_function\u001b[0m\u001b[0;34m(\u001b[0m\u001b[0mins_batch\u001b[0m\u001b[0;34m)\u001b[0m\u001b[0;34m\u001b[0m\u001b[0;34m\u001b[0m\u001b[0m\n\u001b[0m\u001b[1;32m    205\u001b[0m                 \u001b[0mouts\u001b[0m \u001b[0;34m=\u001b[0m \u001b[0mto_list\u001b[0m\u001b[0;34m(\u001b[0m\u001b[0mouts\u001b[0m\u001b[0;34m)\u001b[0m\u001b[0;34m\u001b[0m\u001b[0;34m\u001b[0m\u001b[0m\n\u001b[1;32m    206\u001b[0m                 \u001b[0;32mfor\u001b[0m \u001b[0ml\u001b[0m\u001b[0;34m,\u001b[0m \u001b[0mo\u001b[0m \u001b[0;32min\u001b[0m \u001b[0mzip\u001b[0m\u001b[0;34m(\u001b[0m\u001b[0mout_labels\u001b[0m\u001b[0;34m,\u001b[0m \u001b[0mouts\u001b[0m\u001b[0;34m)\u001b[0m\u001b[0;34m:\u001b[0m\u001b[0;34m\u001b[0m\u001b[0;34m\u001b[0m\u001b[0m\n",
      "\u001b[0;32m~/miniconda3/lib/python3.7/site-packages/keras/backend/tensorflow_backend.py\u001b[0m in \u001b[0;36m__call__\u001b[0;34m(self, inputs)\u001b[0m\n\u001b[1;32m   2977\u001b[0m                     \u001b[0;32mreturn\u001b[0m \u001b[0mself\u001b[0m\u001b[0;34m.\u001b[0m\u001b[0m_legacy_call\u001b[0m\u001b[0;34m(\u001b[0m\u001b[0minputs\u001b[0m\u001b[0;34m)\u001b[0m\u001b[0;34m\u001b[0m\u001b[0;34m\u001b[0m\u001b[0m\n\u001b[1;32m   2978\u001b[0m \u001b[0;34m\u001b[0m\u001b[0m\n\u001b[0;32m-> 2979\u001b[0;31m             \u001b[0;32mreturn\u001b[0m \u001b[0mself\u001b[0m\u001b[0;34m.\u001b[0m\u001b[0m_call\u001b[0m\u001b[0;34m(\u001b[0m\u001b[0minputs\u001b[0m\u001b[0;34m)\u001b[0m\u001b[0;34m\u001b[0m\u001b[0;34m\u001b[0m\u001b[0m\n\u001b[0m\u001b[1;32m   2980\u001b[0m         \u001b[0;32melse\u001b[0m\u001b[0;34m:\u001b[0m\u001b[0;34m\u001b[0m\u001b[0;34m\u001b[0m\u001b[0m\n\u001b[1;32m   2981\u001b[0m             \u001b[0;32mif\u001b[0m \u001b[0mpy_any\u001b[0m\u001b[0;34m(\u001b[0m\u001b[0mis_tensor\u001b[0m\u001b[0;34m(\u001b[0m\u001b[0mx\u001b[0m\u001b[0;34m)\u001b[0m \u001b[0;32mfor\u001b[0m \u001b[0mx\u001b[0m \u001b[0;32min\u001b[0m \u001b[0minputs\u001b[0m\u001b[0;34m)\u001b[0m\u001b[0;34m:\u001b[0m\u001b[0;34m\u001b[0m\u001b[0;34m\u001b[0m\u001b[0m\n",
      "\u001b[0;32m~/miniconda3/lib/python3.7/site-packages/keras/backend/tensorflow_backend.py\u001b[0m in \u001b[0;36m_call\u001b[0;34m(self, inputs)\u001b[0m\n\u001b[1;32m   2935\u001b[0m             \u001b[0mfetched\u001b[0m \u001b[0;34m=\u001b[0m \u001b[0mself\u001b[0m\u001b[0;34m.\u001b[0m\u001b[0m_callable_fn\u001b[0m\u001b[0;34m(\u001b[0m\u001b[0;34m*\u001b[0m\u001b[0marray_vals\u001b[0m\u001b[0;34m,\u001b[0m \u001b[0mrun_metadata\u001b[0m\u001b[0;34m=\u001b[0m\u001b[0mself\u001b[0m\u001b[0;34m.\u001b[0m\u001b[0mrun_metadata\u001b[0m\u001b[0;34m)\u001b[0m\u001b[0;34m\u001b[0m\u001b[0;34m\u001b[0m\u001b[0m\n\u001b[1;32m   2936\u001b[0m         \u001b[0;32melse\u001b[0m\u001b[0;34m:\u001b[0m\u001b[0;34m\u001b[0m\u001b[0;34m\u001b[0m\u001b[0m\n\u001b[0;32m-> 2937\u001b[0;31m             \u001b[0mfetched\u001b[0m \u001b[0;34m=\u001b[0m \u001b[0mself\u001b[0m\u001b[0;34m.\u001b[0m\u001b[0m_callable_fn\u001b[0m\u001b[0;34m(\u001b[0m\u001b[0;34m*\u001b[0m\u001b[0marray_vals\u001b[0m\u001b[0;34m)\u001b[0m\u001b[0;34m\u001b[0m\u001b[0;34m\u001b[0m\u001b[0m\n\u001b[0m\u001b[1;32m   2938\u001b[0m         \u001b[0;32mreturn\u001b[0m \u001b[0mfetched\u001b[0m\u001b[0;34m[\u001b[0m\u001b[0;34m:\u001b[0m\u001b[0mlen\u001b[0m\u001b[0;34m(\u001b[0m\u001b[0mself\u001b[0m\u001b[0;34m.\u001b[0m\u001b[0moutputs\u001b[0m\u001b[0;34m)\u001b[0m\u001b[0;34m]\u001b[0m\u001b[0;34m\u001b[0m\u001b[0;34m\u001b[0m\u001b[0m\n\u001b[1;32m   2939\u001b[0m \u001b[0;34m\u001b[0m\u001b[0m\n",
      "\u001b[0;32m~/miniconda3/lib/python3.7/site-packages/tensorflow_core/python/client/session.py\u001b[0m in \u001b[0;36m__call__\u001b[0;34m(self, *args, **kwargs)\u001b[0m\n\u001b[1;32m   1470\u001b[0m         ret = tf_session.TF_SessionRunCallable(self._session._session,\n\u001b[1;32m   1471\u001b[0m                                                \u001b[0mself\u001b[0m\u001b[0;34m.\u001b[0m\u001b[0m_handle\u001b[0m\u001b[0;34m,\u001b[0m \u001b[0margs\u001b[0m\u001b[0;34m,\u001b[0m\u001b[0;34m\u001b[0m\u001b[0;34m\u001b[0m\u001b[0m\n\u001b[0;32m-> 1472\u001b[0;31m                                                run_metadata_ptr)\n\u001b[0m\u001b[1;32m   1473\u001b[0m         \u001b[0;32mif\u001b[0m \u001b[0mrun_metadata\u001b[0m\u001b[0;34m:\u001b[0m\u001b[0;34m\u001b[0m\u001b[0;34m\u001b[0m\u001b[0m\n\u001b[1;32m   1474\u001b[0m           \u001b[0mproto_data\u001b[0m \u001b[0;34m=\u001b[0m \u001b[0mtf_session\u001b[0m\u001b[0;34m.\u001b[0m\u001b[0mTF_GetBuffer\u001b[0m\u001b[0;34m(\u001b[0m\u001b[0mrun_metadata_ptr\u001b[0m\u001b[0;34m)\u001b[0m\u001b[0;34m\u001b[0m\u001b[0;34m\u001b[0m\u001b[0m\n",
      "\u001b[0;31mKeyboardInterrupt\u001b[0m: "
     ]
    }
   ],
   "source": [
    "# training the model based on pretrained weights\n",
    "history, model = pip(40)"
   ]
  },
  {
   "cell_type": "code",
   "execution_count": 19,
   "metadata": {},
   "outputs": [
    {
     "data": {
      "image/png": "[encoded data removed]",
      "text/plain": [
       "<Figure size 432x288 with 1 Axes>"
      ]
     },
     "metadata": {
      "needs_background": "light"
     },
     "output_type": "display_data"
    }
   ],
   "source": [
    "# summarize history for accuracy\n",
    "#print(history.history.keys()) \n",
    "plt.plot(history.history['acc'])\n",
    "plt.plot(history.history['val_acc'])\n",
    "plt.title('Model Accuracy')\n",
    "plt.ylabel('accuracy')\n",
    "plt.xlabel('epoch')\n",
    "plt.legend(['train', 'validate'], loc='upper left')\n",
    "plt.show()"
   ]
  },
  {
   "cell_type": "code",
   "execution_count": 46,
   "metadata": {},
   "outputs": [
    {
     "name": "stdout",
     "output_type": "stream",
     "text": [
      "(933, 40, 173, 1)\n"
     ]
    }
   ],
   "source": [
    "pickle_file_path = 'audio_features_mfcc40.pickle'\n",
    "train_features, validate_features, test_features, train_labels,\\\n",
    "validate_labels, test_labels, y_one_hot = load_data(pickle_file_path)\n",
    "train_features = train_features.reshape( (train_features.shape[0], train_features.shape[1],  train_features.shape[2], 1))\n",
    "validate_features = validate_features.reshape((validate_features.shape[0], validate_features.shape[1],  validate_features.shape[2], 1))\n",
    "test_features = test_features.reshape((test_features.shape[0], test_features.shape[1],  test_features.shape[2], 1))\n",
    "print(test_features.shape)"
   ]
  },
  {
   "cell_type": "code",
   "execution_count": 47,
   "metadata": {},
   "outputs": [
    {
     "name": "stdout",
     "output_type": "stream",
     "text": [
      "6838/6838 [==============================] - 2s 288us/step\n",
      "Training Accuracy:  0.9226381982512974\n",
      "961/961 [==============================] - 0s 286us/step\n",
      "Validation Accuracy:  0.8751300728407908\n",
      "933/933 [==============================] - 0s 289us/step\n",
      "Test Accuracy:  0.8713826366559485\n"
     ]
    }
   ],
   "source": [
    "# Evaluating the model on the training and testing set\n",
    "\n",
    "score = model.evaluate(train_features, train_labels, verbose=1)\n",
    "print(\"Training Accuracy: \", score[1])\n",
    "\n",
    "score = model.evaluate(validate_features, validate_labels, verbose=1)\n",
    "print(\"Validation Accuracy: \", score[1])\n",
    "\n",
    "score = model.evaluate(test_features, test_labels, verbose=1)\n",
    "print(\"Test Accuracy: \", score[1])\n"
   ]
  },
  {
   "cell_type": "code",
   "execution_count": 48,
   "metadata": {
    "scrolled": true
   },
   "outputs": [
    {
     "name": "stdout",
     "output_type": "stream",
     "text": [
      "Saved model to disk\n"
     ]
    }
   ],
   "source": [
    "# Source: https://machinelearningmastery.com/save-load-keras-deep-learning-models/\n",
    "# Save model to JSON\n",
    "model_json = model.to_json()\n",
    "with open(\"sound_classification_model.json\", \"w\") as json_file:\n",
    "    json_file.write(model_json)\n",
    "    \n",
    "# serialize weights to HDF5\n",
    "model.save_weights(\"model_weights.h5\")\n",
    "print(\"Saved model to disk\")"
   ]
  },
  {
   "cell_type": "code",
   "execution_count": 49,
   "metadata": {},
   "outputs": [
    {
     "name": "stdout",
     "output_type": "stream",
     "text": [
      "Loaded model from disk\n"
     ]
    }
   ],
   "source": [
    "# Load the saved model\n",
    "# load json and create model\n",
    "json_file = open('sound_classification_model.json', 'r')\n",
    "loaded_model_json = json_file.read()\n",
    "json_file.close()\n",
    "loaded_model = model_from_json(loaded_model_json)\n",
    "# load weights into new model\n",
    "loaded_model.load_weights(\"model_weights.h5\")\n",
    "print(\"Loaded model from disk\")\n"
   ]
  },
  {
   "cell_type": "code",
   "execution_count": 51,
   "metadata": {},
   "outputs": [],
   "source": [
    "# Loadoaded model\n",
    "loaded_model.compile(loss='categorical_crossentropy', metrics=['accuracy'], optimizer='adam')"
   ]
  },
  {
   "cell_type": "code",
   "execution_count": 52,
   "metadata": {},
   "outputs": [
    {
     "ename": "TypeError",
     "evalue": "extract_feature() missing 1 required positional argument: 'n'",
     "output_type": "error",
     "traceback": [
      "\u001b[0;31m---------------------------------------------------------------------------\u001b[0m",
      "\u001b[0;31mTypeError\u001b[0m                                 Traceback (most recent call last)",
      "\u001b[0;32m<ipython-input-52-550fdbe837e0>\u001b[0m in \u001b[0;36m<module>\u001b[0;34m\u001b[0m\n\u001b[1;32m      3\u001b[0m \u001b[0;31m# make sure the sound file length is <= 2s, or doesn't contians info after 2s\u001b[0m\u001b[0;34m\u001b[0m\u001b[0;34m\u001b[0m\u001b[0;34m\u001b[0m\u001b[0m\n\u001b[1;32m      4\u001b[0m \u001b[0mfile_path\u001b[0m \u001b[0;34m=\u001b[0m \u001b[0;34m''\u001b[0m\u001b[0;34m\u001b[0m\u001b[0;34m\u001b[0m\u001b[0m\n\u001b[0;32m----> 5\u001b[0;31m \u001b[0mx\u001b[0m \u001b[0;34m=\u001b[0m \u001b[0mextract_feature\u001b[0m\u001b[0;34m(\u001b[0m\u001b[0mfile_path\u001b[0m\u001b[0;34m)\u001b[0m\u001b[0;34m\u001b[0m\u001b[0;34m\u001b[0m\u001b[0m\n\u001b[0m\u001b[1;32m      6\u001b[0m \u001b[0mprint\u001b[0m\u001b[0;34m(\u001b[0m\u001b[0mx\u001b[0m\u001b[0;34m.\u001b[0m\u001b[0mshape\u001b[0m\u001b[0;34m)\u001b[0m\u001b[0;34m\u001b[0m\u001b[0;34m\u001b[0m\u001b[0m\n\u001b[1;32m      7\u001b[0m \u001b[0mpredictions\u001b[0m \u001b[0;34m=\u001b[0m \u001b[0mloaded_model\u001b[0m\u001b[0;34m.\u001b[0m\u001b[0mpredict\u001b[0m\u001b[0;34m(\u001b[0m\u001b[0mx\u001b[0m\u001b[0;34m)\u001b[0m\u001b[0;34m\u001b[0m\u001b[0;34m\u001b[0m\u001b[0m\n",
      "\u001b[0;31mTypeError\u001b[0m: extract_feature() missing 1 required positional argument: 'n'"
     ]
    }
   ],
   "source": [
    "# Test performance of user input audio file\n",
    "# x need to be numpy array of shape (40, 173) processed through mfcc\n",
    "# make sure the sound file length is <= 2s, or doesn't contians info after 2s\n",
    "file_path = ''\n",
    "x = extract_feature(file_path)\n",
    "print(x.shape)\n",
    "predictions = loaded_model.predict(x)\n",
    "print(predictions)"
   ]
  },
  {
   "cell_type": "code",
   "execution_count": null,
   "metadata": {},
   "outputs": [],
   "source": [
    "# next step:\n",
    "# 1. Run the model\n",
    "# 2. Save the data set (train/validation/test data)\n",
    "# 3. Save the model\n",
    "# 4. Improve model performance\n",
    "# 5. Modify the model - possible: MobileNet, VGG16, LeNet, GoogLeNet\n",
    "# 6. Predict the user input audio clip"
   ]
  }
 ],
 "metadata": {
  "kernelspec": {
   "display_name": "Python 3",
   "language": "python",
   "name": "python3"
  },
  "language_info": {
   "codemirror_mode": {
    "name": "ipython",
    "version": 3
   },
   "file_extension": ".py",
   "mimetype": "text/x-python",
   "name": "python",
   "nbconvert_exporter": "python",
   "pygments_lexer": "ipython3",
   "version": "3.7.1"
  }
 },
 "nbformat": 4,
 "nbformat_minor": 2
}
